{
  "nbformat": 4,
  "nbformat_minor": 0,
  "metadata": {
    "colab": {
      "name": "Hamiltonian Generation Hubbard 1D.ipynb",
      "provenance": [],
      "collapsed_sections": []
    },
    "kernelspec": {
      "name": "python3",
      "display_name": "Python 3"
    },
    "language_info": {
      "name": "python"
    }
  },
  "cells": [
    {
      "cell_type": "code",
      "metadata": {
        "id": "qlPInVQ9okTa"
      },
      "source": [
        "import numpy as np\n",
        "import itertools\n",
        "import scipy as sc\n",
        "import matplotlib.pyplot as plt\n",
        "\n",
        "from sympy.matrices import Matrix\n"
      ],
      "execution_count": null,
      "outputs": []
    },
    {
      "cell_type": "markdown",
      "metadata": {
        "id": "4qZ45T1_sWm8"
      },
      "source": [
        "Spinless Hubbard model is:\n",
        "$$\n",
        "\\mathbf{H}_{Spinless}=\\sum_{i}^{L} \\epsilon_{i} \\hat{a}_{i}^\\dagger \\hat{a}_{i}  - t \\sum_{\\langle i,j \\rangle}^{L} \\hat{a}_{i}^\\dagger\\hat{a}_j+ U \\sum_{i}^{L} \\hat{n}_{i}\\hat{n}_{i+1}\n",
        "$$\n",
        "Where $\\hat{n}_i=\\hat{a}^\\dagger_i\\hat{a}_i$, given $L$ sites and $N$ electrons the Hilbert space is of dimension:    \n",
        "$$n=\\binom{L}{N}$$\n",
        "\n"
      ]
    },
    {
      "cell_type": "markdown",
      "metadata": {
        "id": "3dHiyFsVujdI"
      },
      "source": [
        "Normal 1D Hubbard model is:    \n",
        "$$\n",
        "\\mathbf{H}_{Spin}=\\sum_{i,\\sigma}^{L} \\epsilon_{i} \\hat{a}_{i,\\sigma}^\\dagger \\hat{a}_{i,\\sigma}  - t \\sum_{i,σ}^{L} \\hat{a}_{i,\\sigma}^\\dagger\\hat{a}_{i+1,\\sigma}+ U \\sum_{i}^{L} \\hat{n}_{i,\\downarrow}\\hat{n}_{i,\\uparrow}\n",
        "$$"
      ]
    },
    {
      "cell_type": "markdown",
      "metadata": {
        "id": "ubrKrdcQP5Fj"
      },
      "source": [
        "## Steps to take\n",
        "Write function that creates the Hamiltonian matrix, given inputs  [Length_of_chain, $N_\\uparrow$, $N_\\downarrow$, $U$, $t$, external potential $\\{ϵ_i\\}$]\n",
        "\n",
        "1.   Generate basis states, taking combination of spin up and spin downs\n",
        "2.   Use binary representation of basis state, e.g for a state $|0,1,0,1\\rangle \\longrightarrow 5$, storing states as integers. \n",
        "3.   Calculate matrix entries via fast bitwise operations, as searching through Numpy arrays for hopping terms is complicated and expensive. \n",
        "\n",
        "\n"
      ]
    },
    {
      "cell_type": "markdown",
      "metadata": {
        "id": "ZrA3Av1FR_pc"
      },
      "source": [
        "### XOR operation for hopping term Example\n",
        "have basis states $|0,1,1,0\\rangle$ and $|1,0,1,0\\rangle$, taking XOR and summing gives $$ sum(|1,1,0,0\\rangle)=2 $$\n",
        "When the sum is equal to 2 we have a hopping term \n",
        "\n",
        "$$H_T[|0,1,1,0\\rangle,|1,0,1,0\\rangle]=-t $$\n",
        "This is for the spinless case, but is identical for the case with spin."
      ]
    },
    {
      "cell_type": "markdown",
      "metadata": {
        "id": "JXHzmnOFS07h"
      },
      "source": [
        "### AND operation for on-site Coulomb repulsion Example\n",
        "Will store basis states with the first half of bits representing spin-up and the second representing spin-down, e.g \n",
        "$$ |0011 ;1001\\rangle$$\n",
        "Then by taking AND of this states spin separated parts, we get the Coulomb repulsion term\n",
        "$$sum(0011\\quad  AND \\quad 1001)= 1 $$\n",
        "\n"
      ]
    },
    {
      "cell_type": "markdown",
      "metadata": {
        "id": "NAZM2a2QUhva"
      },
      "source": [
        "### Hamiltonian generation\n",
        "$L$ is the length of the chain/ring. $\\{ϵ\\}$ will be random, uniformly generated.\n"
      ]
    },
    {
      "cell_type": "code",
      "metadata": {
        "colab": {
          "base_uri": "https://localhost:8080/"
        },
        "id": "6-CJyTdqsWUm",
        "outputId": "75dd0127-c427-4c06-b064-4229490f10ff"
      },
      "source": [
        "max_value=0     #NEEDED for B.C: global value that represents the largest possible integer resulting from spin up/down basis states\n",
        "\n",
        "\n",
        "def Hubbard_Matrix(L,N_up,N_down,U,t,external_potential):\n",
        "  number_of_sites=2*L                             # potentially occupied orbitals\n",
        "\n",
        "  def easy_basis_state(N_up):\n",
        "    easy=\"1\"*N_up +\"0\"*(L-N_up)\n",
        "    global maximum\n",
        "    maximum=float(2**(L))\n",
        "    return easy\n",
        "  \n",
        "  states_up=[]                                 \n",
        "  states_down=[]\n",
        "\n",
        "  ordered_first_up=easy_basis_state(N_up)   \n",
        "  orderesd_first_down= easy_basis_state(N_down)      \n",
        "\n",
        "  ###########################################################\n",
        "  # Now generate the  permutations\n",
        "  ###########################################################\n",
        "  ups=itertools.permutations(ordered_first_up)\n",
        "  downs=itertools.permutations(orderesd_first_down)\n",
        "\n",
        "\n",
        "  # use python set function for creating unique states\n",
        "  ups_set=set(ups)\n",
        "  downs_set=set(downs)\n",
        "  ups_final=list(ups_set)\n",
        "  downs_final=list(downs_set)\n",
        "  #for i in ups_final:\n",
        "    #print(''.join(i))\n",
        "\n",
        "  for i in range(len(ups_final)):\n",
        "        BINARY=''.join(ups_final[i])\n",
        "        p= int(BINARY,2)\n",
        "        states_up.append(p)\n",
        "\n",
        "  for i in range(len(downs_final)):\n",
        "        BINARY=''.join(downs_final[i])\n",
        "        p= int(BINARY,2)\n",
        "        states_down.append(p)\n",
        "\n",
        "  states_down=np.array(states_down)#.reshape((-1,1))\n",
        "  states_up=np.array(states_up)#.reshape((-1,1))\n",
        "  #print(states_up)\n",
        "  #print(states_down)\n",
        "  basis_states=np.array(list(itertools.product(states_up,states_down)))\n",
        "  #print(basis_states)\n",
        "  dim=len(basis_states)\n",
        "\n",
        "  H=np.zeros((dim,dim),dtype=np.float64)\n",
        "  #print(H.shape)\n",
        "\n",
        "  ###################################################################################\n",
        "  ###                 U term = number of Coulomb repulsions in given state     ######\n",
        "  ###################################################################################\n",
        "\n",
        "  for i in range(len(basis_states)):\n",
        "    upy,downy=basis_states[i][0],basis_states[i][1]\n",
        "    #print(np.binary_repr(upy,L))\n",
        "    #print(np.binary_repr(downy,L))\n",
        "    coulombs= np.binary_repr(upy & downy,L).count('1')\n",
        "    #print(coulombs)\n",
        "    if coulombs>0:\n",
        "      H[i,i]+= U * coulombs \n",
        "  \n",
        "\n",
        "\n",
        "  ###################################################################################\n",
        "  ###                 T term = hopping kinetic energy terms                    ######\n",
        "  ###################################################################################\n",
        "  for i in range(len(basis_states)):\n",
        "    for j in range(len(basis_states)):\n",
        "\n",
        "      if i>j:                                                             ## take XOR's\n",
        "        hops_up=basis_states[i][0]^basis_states[j][0]\n",
        "        hops_down=basis_states[i][1]^basis_states[j][1]\n",
        "\n",
        "        result_up=np.binary_repr(hops_up,L).count('1')                        # count number of hops, we want it to be 2\n",
        "        result_down=np.binary_repr(hops_down,L).count('1')\n",
        "        \n",
        "        if (result_up==0 and result_down==2) or (result_up==2 and result_down==0):\n",
        "                                                                              # check if hopping is between neighbours #\n",
        "          check_up=hops_up&(hops_up<<1)                  \n",
        "          check_down=hops_down&(hops_down<<1)\n",
        "\n",
        "          neighbour_up=np.binary_repr(check_up,L).count('1')\n",
        "          neighbour_down=np.binary_repr(check_down,L).count('1')\n",
        "\n",
        "          if (neighbour_up==1 and neighbour_down==0) or (neighbour_up==0 and neighbour_down==1):\n",
        "            H[i,j]=H[j,i]= -t\n",
        "\n",
        "  ########################### NEED TO DO Boundary conditions hopping ##############################\n",
        "\n",
        "  #################################################################################################\n",
        "  #              External potential terms \n",
        "  #################################################################################################\n",
        "  for i in range(len(basis_states)):\n",
        "    UP=basis_states[i][0]\n",
        "    DOWN=basis_states[i][1]\n",
        "    UP_bin=[int(x) for x in np.binary_repr(UP,L)]\n",
        "    DOWN_bin=[int(x) for x in np.binary_repr(DOWN,L)]\n",
        "    product= external_potential*(np.array(UP_bin) +np.array(DOWN_bin))\n",
        "    #print(DOWN_bin)\n",
        "    #print(UP_bin)\n",
        "    #print(product)\n",
        "    H[i,i]+= sum(product)\n",
        "\n",
        "\n",
        "\n",
        "  print(H)  \n",
        "\n",
        "    \n",
        "  \n",
        "\n",
        "\n",
        "\n",
        "  \n",
        "\n",
        "L=4\n",
        "external_pot=[0.2,-0.2,0.3,0.1]\n",
        "Hubbard_Matrix(L,1,1,1,8,external_pot)#np.random.uniform(-0.1,0.1,L))\n",
        "\n",
        "\n",
        "\n"
      ],
      "execution_count": null,
      "outputs": [
        {
          "output_type": "stream",
          "name": "stdout",
          "text": [
            "[[ 1.2  0.  -8.   0.   0.   0.   0.   0.  -8.   0.   0.   0.   0.   0.\n",
            "   0.   0. ]\n",
            " [ 0.   0.3  0.  -8.   0.   0.   0.   0.   0.  -8.   0.   0.   0.   0.\n",
            "   0.   0. ]\n",
            " [-8.   0.   0.4 -8.   0.   0.   0.   0.   0.   0.  -8.   0.   0.   0.\n",
            "   0.   0. ]\n",
            " [ 0.  -8.  -8.  -0.1  0.   0.   0.   0.   0.   0.   0.  -8.   0.   0.\n",
            "   0.   0. ]\n",
            " [ 0.   0.   0.   0.   0.3  0.  -8.   0.   0.   0.   0.   0.  -8.   0.\n",
            "   0.   0. ]\n",
            " [ 0.   0.   0.   0.   0.   1.4  0.  -8.   0.   0.   0.   0.   0.  -8.\n",
            "   0.   0. ]\n",
            " [ 0.   0.   0.   0.  -8.   0.   0.5 -8.   0.   0.   0.   0.   0.   0.\n",
            "  -8.   0. ]\n",
            " [ 0.   0.   0.   0.   0.  -8.  -8.   0.   0.   0.   0.   0.   0.   0.\n",
            "   0.  -8. ]\n",
            " [-8.   0.   0.   0.   0.   0.   0.   0.   0.4  0.  -8.   0.  -8.   0.\n",
            "   0.   0. ]\n",
            " [ 0.  -8.   0.   0.   0.   0.   0.   0.   0.   0.5  0.  -8.   0.  -8.\n",
            "   0.   0. ]\n",
            " [ 0.   0.  -8.   0.   0.   0.   0.   0.  -8.   0.   1.6 -8.   0.   0.\n",
            "  -8.   0. ]\n",
            " [ 0.   0.   0.  -8.   0.   0.   0.   0.   0.  -8.  -8.   0.1  0.   0.\n",
            "   0.  -8. ]\n",
            " [ 0.   0.   0.   0.  -8.   0.   0.   0.  -8.   0.   0.   0.  -0.1  0.\n",
            "  -8.   0. ]\n",
            " [ 0.   0.   0.   0.   0.  -8.   0.   0.   0.  -8.   0.   0.   0.   0.\n",
            "   0.  -8. ]\n",
            " [ 0.   0.   0.   0.   0.   0.  -8.   0.   0.   0.  -8.   0.  -8.   0.\n",
            "   0.1 -8. ]\n",
            " [ 0.   0.   0.   0.   0.   0.   0.  -8.   0.   0.   0.  -8.   0.  -8.\n",
            "  -8.   0.6]]\n"
          ]
        }
      ]
    },
    {
      "cell_type": "markdown",
      "metadata": {
        "id": "yXGahMHOujK5"
      },
      "source": [
        ""
      ]
    },
    {
      "cell_type": "code",
      "metadata": {
        "colab": {
          "base_uri": "https://localhost:8080/"
        },
        "id": "vqh2yRHstlPa",
        "outputId": "0ff644f4-b0cf-4cc1-ae00-8792ff8e4374"
      },
      "source": [
        "print(7&(7<<1))\n",
        "k=7<<1\n",
        "print(k)\n",
        "print(7&k)"
      ],
      "execution_count": null,
      "outputs": [
        {
          "output_type": "stream",
          "name": "stdout",
          "text": [
            "6\n",
            "14\n",
            "6\n"
          ]
        }
      ]
    },
    {
      "cell_type": "code",
      "metadata": {
        "colab": {
          "base_uri": "https://localhost:8080/"
        },
        "id": "hYrOeERWwyJy",
        "outputId": "4767fc1d-e0e9-4ecb-858e-cf40874e348a"
      },
      "source": [
        "print(bin(7))\n",
        "np.array([int(x) for x in np.binary_repr(8,4)])*np.full((1,4),2)"
      ],
      "execution_count": null,
      "outputs": [
        {
          "output_type": "stream",
          "name": "stdout",
          "text": [
            "0b111\n"
          ]
        },
        {
          "output_type": "execute_result",
          "data": {
            "text/plain": [
              "array([[2, 0, 0, 0]])"
            ]
          },
          "metadata": {},
          "execution_count": 92
        }
      ]
    }
  ]
}